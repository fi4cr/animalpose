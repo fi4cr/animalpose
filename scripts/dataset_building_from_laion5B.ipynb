{
 "cells": [
  {
   "cell_type": "code",
   "execution_count": 1,
   "metadata": {
    "colab": {
     "base_uri": "https://localhost:8080/"
    },
    "id": "3jQDdZ7lZkm8",
    "outputId": "10f7a796-b37b-4582-da88-106ca0be4743"
   },
   "outputs": [
    {
     "name": "stdout",
     "output_type": "stream",
     "text": [
      "Collecting clip-retrieval\n",
      "  Downloading clip_retrieval-2.36.1-py3-none-any.whl (353 kB)\n",
      "\u001b[2K     \u001b[38;2;114;156;31m━━━━━━━━━━━━━━━━━━━━━━━━━━━━━━━━━━━━━━━\u001b[0m \u001b[32m353.2/353.2 kB\u001b[0m \u001b[31m3.0 MB/s\u001b[0m eta \u001b[36m0:00:00\u001b[0m[31m2.7 MB/s\u001b[0m eta \u001b[36m0:00:01\u001b[0m\n",
      "\u001b[?25hCollecting img2dataset\n",
      "  Downloading img2dataset-1.41.0-py3-none-any.whl (40 kB)\n",
      "\u001b[2K     \u001b[38;2;114;156;31m━━━━━━━━━━━━━━━━━━━━━━━━━━━━━━━━━━━━━━━━\u001b[0m \u001b[32m40.6/40.6 kB\u001b[0m \u001b[31m3.5 MB/s\u001b[0m eta \u001b[36m0:00:00\u001b[0m\n",
      "\u001b[?25hCollecting multilingual-clip<2,>=1.0.10\n",
      "  Downloading multilingual_clip-1.0.10-py3-none-any.whl (20 kB)\n",
      "Requirement already satisfied: aiohttp<4,>=3.8.1 in /home/foz/miniconda3/envs/ml/lib/python3.9/site-packages (from clip-retrieval) (3.8.3)\n",
      "Requirement already satisfied: tqdm<5,>=4.62.3 in /home/foz/miniconda3/envs/ml/lib/python3.9/site-packages (from clip-retrieval) (4.64.1)\n",
      "Collecting wandb<0.13,>=0.12.10\n",
      "  Downloading wandb-0.12.21-py2.py3-none-any.whl (1.8 MB)\n",
      "\u001b[2K     \u001b[38;2;114;156;31m━━━━━━━━━━━━━━━━━━━━━━━━━━━━━━━━━━━━━━━━\u001b[0m \u001b[32m1.8/1.8 MB\u001b[0m \u001b[31m4.8 MB/s\u001b[0m eta \u001b[36m0:00:00\u001b[0m[31m5.0 MB/s\u001b[0m eta \u001b[36m0:00:01\u001b[0m\n",
      "\u001b[?25hRequirement already satisfied: torchvision<2,>=0.10.1 in /home/foz/miniconda3/envs/ml/lib/python3.9/site-packages (from clip-retrieval) (0.14.1)\n",
      "Collecting flask-restful<1,>=0.3.9\n",
      "  Downloading Flask_RESTful-0.3.9-py2.py3-none-any.whl (25 kB)\n",
      "Requirement already satisfied: requests<3,>=2.27.1 in /home/foz/miniconda3/envs/ml/lib/python3.9/site-packages (from clip-retrieval) (2.28.1)\n",
      "Collecting sentence-transformers<3,>=2.2.0\n",
      "  Downloading sentence-transformers-2.2.2.tar.gz (85 kB)\n",
      "\u001b[2K     \u001b[38;2;114;156;31m━━━━━━━━━━━━━━━━━━━━━━━━━━━━━━━━━━━━━━━━\u001b[0m \u001b[32m86.0/86.0 kB\u001b[0m \u001b[31m3.0 MB/s\u001b[0m eta \u001b[36m0:00:00\u001b[0m\n",
      "\u001b[?25h  Preparing metadata (setup.py) ... \u001b[?25ldone\n",
      "\u001b[?25hRequirement already satisfied: open-clip-torch<3.0.0,>=2.0.0 in /home/foz/miniconda3/envs/ml/lib/python3.9/site-packages (from clip-retrieval) (2.16.0)\n",
      "Collecting autofaiss<3,>=2.9.6\n",
      "  Downloading autofaiss-2.15.5-py3-none-any.whl (69 kB)\n",
      "\u001b[2K     \u001b[38;2;114;156;31m━━━━━━━━━━━━━━━━━━━━━━━━━━━━━━━━━━━━━━━━\u001b[0m \u001b[32m70.0/70.0 kB\u001b[0m \u001b[31m3.5 MB/s\u001b[0m eta \u001b[36m0:00:00\u001b[0m\n",
      "\u001b[?25hRequirement already satisfied: h5py<4,>=3.1.0 in /home/foz/miniconda3/envs/ml/lib/python3.9/site-packages (from clip-retrieval) (3.7.0)\n",
      "Requirement already satisfied: prometheus-client<1,>=0.13.1 in /home/foz/miniconda3/envs/ml/lib/python3.9/site-packages (from clip-retrieval) (0.15.0)\n",
      "Collecting flask-cors<4,>=3.0.10\n",
      "  Downloading Flask_Cors-3.0.10-py2.py3-none-any.whl (14 kB)\n",
      "Collecting fsspec==2022.11.0\n",
      "  Downloading fsspec-2022.11.0-py3-none-any.whl (139 kB)\n",
      "\u001b[2K     \u001b[38;2;114;156;31m━━━━━━━━━━━━━━━━━━━━━━━━━━━━━━━━━━━━━━━\u001b[0m \u001b[32m139.5/139.5 kB\u001b[0m \u001b[31m4.1 MB/s\u001b[0m eta \u001b[36m0:00:00\u001b[0m MB/s\u001b[0m eta \u001b[36m0:00:01\u001b[0m\n",
      "\u001b[?25hRequirement already satisfied: torch<2,>=1.7.1 in /home/foz/miniconda3/envs/ml/lib/python3.9/site-packages (from clip-retrieval) (1.13.1)\n",
      "Collecting clip-anytorch<3,>=2.5.0\n",
      "  Downloading clip_anytorch-2.5.2-py3-none-any.whl (1.4 MB)\n",
      "\u001b[2K     \u001b[38;2;114;156;31m━━━━━━━━━━━━━━━━━━━━━━━━━━━━━━━━━━━━━━━━\u001b[0m \u001b[32m1.4/1.4 MB\u001b[0m \u001b[31m5.8 MB/s\u001b[0m eta \u001b[36m0:00:00\u001b[0m MB/s\u001b[0m eta \u001b[36m0:00:01\u001b[0m:01\u001b[0m\n",
      "\u001b[?25hRequirement already satisfied: numpy<2,>=1.19.5 in /home/foz/miniconda3/envs/ml/lib/python3.9/site-packages (from clip-retrieval) (1.23.4)\n",
      "Collecting faiss-cpu<2,>=1.7.2\n",
      "  Downloading faiss_cpu-1.7.3-cp39-cp39-manylinux_2_17_x86_64.manylinux2014_x86_64.whl (17.0 MB)\n",
      "\u001b[2K     \u001b[38;2;114;156;31m━━━━━━━━━━━━━━━━━━━━━━━━━━━━━━━━━━━━━━━━\u001b[0m \u001b[32m17.0/17.0 MB\u001b[0m \u001b[31m5.6 MB/s\u001b[0m eta \u001b[36m0:00:00\u001b[0mm eta \u001b[36m0:00:01\u001b[0m[36m0:00:01\u001b[0m\n",
      "\u001b[?25hRequirement already satisfied: pandas<2,>=1.1.5 in /home/foz/miniconda3/envs/ml/lib/python3.9/site-packages (from clip-retrieval) (1.5.1)\n",
      "Collecting fire<0.5.0,>=0.4.0\n",
      "  Using cached fire-0.4.0.tar.gz (87 kB)\n",
      "  Preparing metadata (setup.py) ... \u001b[?25ldone\n",
      "\u001b[?25hRequirement already satisfied: flask<3,>=2.0.3 in /home/foz/miniconda3/envs/ml/lib/python3.9/site-packages (from clip-retrieval) (2.2.2)\n",
      "Collecting webdataset<0.3,>=0.2\n",
      "  Downloading webdataset-0.2.48-py3-none-any.whl (51 kB)\n",
      "\u001b[2K     \u001b[38;2;114;156;31m━━━━━━━━━━━━━━━━━━━━━━━━━━━━━━━━━━━━━━━━\u001b[0m \u001b[32m51.9/51.9 kB\u001b[0m \u001b[31m2.8 MB/s\u001b[0m eta \u001b[36m0:00:00\u001b[0m\n",
      "\u001b[?25hCollecting pyarrow<8,>=6.0.1\n",
      "  Downloading pyarrow-7.0.0-cp39-cp39-manylinux_2_17_x86_64.manylinux2014_x86_64.whl (26.7 MB)\n",
      "\u001b[2K     \u001b[38;2;114;156;31m━━━━━━━━━━━━━━━━━━━━━━━━━━━━━━━━━━━━━━━━\u001b[0m \u001b[32m26.7/26.7 MB\u001b[0m \u001b[31m5.7 MB/s\u001b[0m eta \u001b[36m0:00:00\u001b[0mm eta \u001b[36m0:00:01\u001b[0m[36m0:00:01\u001b[0m\n",
      "\u001b[?25hRequirement already satisfied: albumentations<2,>=1.1.0 in /home/foz/miniconda3/envs/ml/lib/python3.9/site-packages (from img2dataset) (1.3.0)\n",
      "Requirement already satisfied: dataclasses<1.0.0,>=0.6 in /home/foz/miniconda3/envs/ml/lib/python3.9/site-packages (from img2dataset) (0.8)\n",
      "Requirement already satisfied: opencv-python-headless<5,>=4.5.5.62 in /home/foz/miniconda3/envs/ml/lib/python3.9/site-packages (from img2dataset) (4.6.0.66)\n",
      "Collecting exifread-nocycle<4,>=3.0.1\n",
      "  Downloading ExifRead_nocycle-3.0.1-py3-none-any.whl (39 kB)\n",
      "Requirement already satisfied: yarl<2.0,>=1.0 in /home/foz/miniconda3/envs/ml/lib/python3.9/site-packages (from aiohttp<4,>=3.8.1->clip-retrieval) (1.8.1)\n",
      "Requirement already satisfied: async-timeout<5.0,>=4.0.0a3 in /home/foz/miniconda3/envs/ml/lib/python3.9/site-packages (from aiohttp<4,>=3.8.1->clip-retrieval) (4.0.2)\n",
      "Requirement already satisfied: aiosignal>=1.1.2 in /home/foz/miniconda3/envs/ml/lib/python3.9/site-packages (from aiohttp<4,>=3.8.1->clip-retrieval) (1.2.0)\n",
      "Requirement already satisfied: attrs>=17.3.0 in /home/foz/miniconda3/envs/ml/lib/python3.9/site-packages (from aiohttp<4,>=3.8.1->clip-retrieval) (22.1.0)\n",
      "Requirement already satisfied: frozenlist>=1.1.1 in /home/foz/miniconda3/envs/ml/lib/python3.9/site-packages (from aiohttp<4,>=3.8.1->clip-retrieval) (1.3.1)\n",
      "Requirement already satisfied: multidict<7.0,>=4.5 in /home/foz/miniconda3/envs/ml/lib/python3.9/site-packages (from aiohttp<4,>=3.8.1->clip-retrieval) (6.0.2)\n",
      "Requirement already satisfied: charset-normalizer<3.0,>=2.0 in /home/foz/miniconda3/envs/ml/lib/python3.9/site-packages (from aiohttp<4,>=3.8.1->clip-retrieval) (2.1.1)\n",
      "Requirement already satisfied: qudida>=0.0.4 in /home/foz/miniconda3/envs/ml/lib/python3.9/site-packages (from albumentations<2,>=1.1.0->img2dataset) (0.0.4)\n",
      "Requirement already satisfied: scikit-image>=0.16.1 in /home/foz/miniconda3/envs/ml/lib/python3.9/site-packages (from albumentations<2,>=1.1.0->img2dataset) (0.19.3)\n",
      "Requirement already satisfied: PyYAML in /home/foz/miniconda3/envs/ml/lib/python3.9/site-packages (from albumentations<2,>=1.1.0->img2dataset) (6.0)\n",
      "Requirement already satisfied: scipy in /home/foz/miniconda3/envs/ml/lib/python3.9/site-packages (from albumentations<2,>=1.1.0->img2dataset) (1.9.0)\n",
      "Collecting embedding-reader<2,>=1.2.0\n",
      "  Downloading embedding_reader-1.5.0-py3-none-any.whl (18 kB)\n",
      "Requirement already satisfied: regex in /home/foz/miniconda3/envs/ml/lib/python3.9/site-packages (from clip-anytorch<3,>=2.5.0->clip-retrieval) (2022.10.31)\n",
      "Requirement already satisfied: ftfy in /home/foz/miniconda3/envs/ml/lib/python3.9/site-packages (from clip-anytorch<3,>=2.5.0->clip-retrieval) (6.1.1)\n",
      "Requirement already satisfied: six in /home/foz/miniconda3/envs/ml/lib/python3.9/site-packages (from fire<0.5.0,>=0.4.0->clip-retrieval) (1.16.0)\n",
      "Requirement already satisfied: termcolor in /home/foz/miniconda3/envs/ml/lib/python3.9/site-packages (from fire<0.5.0,>=0.4.0->clip-retrieval) (2.2.0)\n",
      "Requirement already satisfied: importlib-metadata>=3.6.0 in /home/foz/miniconda3/envs/ml/lib/python3.9/site-packages (from flask<3,>=2.0.3->clip-retrieval) (5.0.0)\n",
      "Requirement already satisfied: click>=8.0 in /home/foz/miniconda3/envs/ml/lib/python3.9/site-packages (from flask<3,>=2.0.3->clip-retrieval) (8.1.3)\n",
      "Requirement already satisfied: itsdangerous>=2.0 in /home/foz/miniconda3/envs/ml/lib/python3.9/site-packages (from flask<3,>=2.0.3->clip-retrieval) (2.1.2)\n",
      "Requirement already satisfied: Jinja2>=3.0 in /home/foz/miniconda3/envs/ml/lib/python3.9/site-packages (from flask<3,>=2.0.3->clip-retrieval) (3.1.2)\n",
      "Requirement already satisfied: Werkzeug>=2.2.2 in /home/foz/miniconda3/envs/ml/lib/python3.9/site-packages (from flask<3,>=2.0.3->clip-retrieval) (2.2.2)\n"
     ]
    },
    {
     "name": "stdout",
     "output_type": "stream",
     "text": [
      "Collecting aniso8601>=0.82\n",
      "  Downloading aniso8601-9.0.1-py2.py3-none-any.whl (52 kB)\n",
      "\u001b[2K     \u001b[38;2;114;156;31m━━━━━━━━━━━━━━━━━━━━━━━━━━━━━━━━━━━━━━━━\u001b[0m \u001b[32m52.8/52.8 kB\u001b[0m \u001b[31m5.9 MB/s\u001b[0m eta \u001b[36m0:00:00\u001b[0m\n",
      "\u001b[?25hRequirement already satisfied: pytz in /home/foz/miniconda3/envs/ml/lib/python3.9/site-packages (from flask-restful<1,>=0.3.9->clip-retrieval) (2022.6)\n",
      "Requirement already satisfied: transformers in /home/foz/miniconda3/envs/ml/lib/python3.9/site-packages (from multilingual-clip<2,>=1.0.10->clip-retrieval) (4.27.4)\n",
      "Requirement already satisfied: protobuf<4 in /home/foz/miniconda3/envs/ml/lib/python3.9/site-packages (from open-clip-torch<3.0.0,>=2.0.0->clip-retrieval) (3.20.3)\n",
      "Requirement already satisfied: huggingface-hub in /home/foz/miniconda3/envs/ml/lib/python3.9/site-packages (from open-clip-torch<3.0.0,>=2.0.0->clip-retrieval) (0.13.3)\n",
      "Requirement already satisfied: sentencepiece in /home/foz/miniconda3/envs/ml/lib/python3.9/site-packages (from open-clip-torch<3.0.0,>=2.0.0->clip-retrieval) (0.1.97)\n",
      "Requirement already satisfied: timm in /home/foz/miniconda3/envs/ml/lib/python3.9/site-packages (from open-clip-torch<3.0.0,>=2.0.0->clip-retrieval) (0.6.12)\n",
      "Requirement already satisfied: python-dateutil>=2.8.1 in /home/foz/miniconda3/envs/ml/lib/python3.9/site-packages (from pandas<2,>=1.1.5->clip-retrieval) (2.8.2)\n",
      "Requirement already satisfied: idna<4,>=2.5 in /home/foz/miniconda3/envs/ml/lib/python3.9/site-packages (from requests<3,>=2.27.1->clip-retrieval) (3.4)\n",
      "Requirement already satisfied: urllib3<1.27,>=1.21.1 in /home/foz/miniconda3/envs/ml/lib/python3.9/site-packages (from requests<3,>=2.27.1->clip-retrieval) (1.26.11)\n",
      "Requirement already satisfied: certifi>=2017.4.17 in /home/foz/miniconda3/envs/ml/lib/python3.9/site-packages (from requests<3,>=2.27.1->clip-retrieval) (2022.12.7)\n",
      "Requirement already satisfied: scikit-learn in /home/foz/miniconda3/envs/ml/lib/python3.9/site-packages (from sentence-transformers<3,>=2.2.0->clip-retrieval) (1.1.3)\n",
      "Requirement already satisfied: nltk in /home/foz/miniconda3/envs/ml/lib/python3.9/site-packages (from sentence-transformers<3,>=2.2.0->clip-retrieval) (3.7)\n",
      "Requirement already satisfied: typing_extensions in /home/foz/miniconda3/envs/ml/lib/python3.9/site-packages (from torch<2,>=1.7.1->clip-retrieval) (4.4.0)\n",
      "Requirement already satisfied: pillow!=8.3.*,>=5.3.0 in /home/foz/miniconda3/envs/ml/lib/python3.9/site-packages (from torchvision<2,>=0.10.1->clip-retrieval) (9.2.0)\n",
      "Requirement already satisfied: setuptools in /home/foz/miniconda3/envs/ml/lib/python3.9/site-packages (from wandb<0.13,>=0.12.10->clip-retrieval) (65.5.1)\n",
      "Requirement already satisfied: docker-pycreds>=0.4.0 in /home/foz/miniconda3/envs/ml/lib/python3.9/site-packages (from wandb<0.13,>=0.12.10->clip-retrieval) (0.4.0)\n",
      "Requirement already satisfied: pathtools in /home/foz/miniconda3/envs/ml/lib/python3.9/site-packages (from wandb<0.13,>=0.12.10->clip-retrieval) (0.1.2)\n",
      "Requirement already satisfied: GitPython>=1.0.0 in /home/foz/miniconda3/envs/ml/lib/python3.9/site-packages (from wandb<0.13,>=0.12.10->clip-retrieval) (3.1.29)\n",
      "Requirement already satisfied: setproctitle in /home/foz/miniconda3/envs/ml/lib/python3.9/site-packages (from wandb<0.13,>=0.12.10->clip-retrieval) (1.3.2)\n",
      "Requirement already satisfied: promise<3,>=2.0 in /home/foz/miniconda3/envs/ml/lib/python3.9/site-packages (from wandb<0.13,>=0.12.10->clip-retrieval) (2.3)\n",
      "Requirement already satisfied: psutil>=5.0.0 in /home/foz/miniconda3/envs/ml/lib/python3.9/site-packages (from wandb<0.13,>=0.12.10->clip-retrieval) (5.9.3)\n",
      "Requirement already satisfied: sentry-sdk>=1.0.0 in /home/foz/miniconda3/envs/ml/lib/python3.9/site-packages (from wandb<0.13,>=0.12.10->clip-retrieval) (1.10.1)\n",
      "Requirement already satisfied: shortuuid>=0.5.0 in /home/foz/miniconda3/envs/ml/lib/python3.9/site-packages (from wandb<0.13,>=0.12.10->clip-retrieval) (1.0.9)\n",
      "Collecting braceexpand\n",
      "  Downloading braceexpand-0.1.7-py2.py3-none-any.whl (5.9 kB)\n",
      "Requirement already satisfied: gitdb<5,>=4.0.1 in /home/foz/miniconda3/envs/ml/lib/python3.9/site-packages (from GitPython>=1.0.0->wandb<0.13,>=0.12.10->clip-retrieval) (4.0.9)\n",
      "Requirement already satisfied: packaging>=20.9 in /home/foz/miniconda3/envs/ml/lib/python3.9/site-packages (from huggingface-hub->open-clip-torch<3.0.0,>=2.0.0->clip-retrieval) (21.3)\n",
      "Requirement already satisfied: filelock in /home/foz/miniconda3/envs/ml/lib/python3.9/site-packages (from huggingface-hub->open-clip-torch<3.0.0,>=2.0.0->clip-retrieval) (3.8.0)\n",
      "Requirement already satisfied: zipp>=0.5 in /home/foz/miniconda3/envs/ml/lib/python3.9/site-packages (from importlib-metadata>=3.6.0->flask<3,>=2.0.3->clip-retrieval) (3.10.0)\n",
      "Requirement already satisfied: MarkupSafe>=2.0 in /home/foz/miniconda3/envs/ml/lib/python3.9/site-packages (from Jinja2>=3.0->flask<3,>=2.0.3->clip-retrieval) (2.1.1)\n",
      "Requirement already satisfied: tifffile>=2019.7.26 in /home/foz/miniconda3/envs/ml/lib/python3.9/site-packages (from scikit-image>=0.16.1->albumentations<2,>=1.1.0->img2dataset) (2022.10.10)\n",
      "Requirement already satisfied: PyWavelets>=1.1.1 in /home/foz/miniconda3/envs/ml/lib/python3.9/site-packages (from scikit-image>=0.16.1->albumentations<2,>=1.1.0->img2dataset) (1.4.1)\n",
      "Requirement already satisfied: networkx>=2.2 in /home/foz/miniconda3/envs/ml/lib/python3.9/site-packages (from scikit-image>=0.16.1->albumentations<2,>=1.1.0->img2dataset) (2.8.8)\n",
      "Requirement already satisfied: imageio>=2.4.1 in /home/foz/miniconda3/envs/ml/lib/python3.9/site-packages (from scikit-image>=0.16.1->albumentations<2,>=1.1.0->img2dataset) (2.26.1)\n",
      "Requirement already satisfied: threadpoolctl>=2.0.0 in /home/foz/miniconda3/envs/ml/lib/python3.9/site-packages (from scikit-learn->sentence-transformers<3,>=2.2.0->clip-retrieval) (3.1.0)\n",
      "Requirement already satisfied: joblib>=1.0.0 in /home/foz/miniconda3/envs/ml/lib/python3.9/site-packages (from scikit-learn->sentence-transformers<3,>=2.2.0->clip-retrieval) (1.2.0)\n",
      "Requirement already satisfied: tokenizers!=0.11.3,<0.14,>=0.11.1 in /home/foz/miniconda3/envs/ml/lib/python3.9/site-packages (from transformers->multilingual-clip<2,>=1.0.10->clip-retrieval) (0.13.1)\n",
      "Requirement already satisfied: wcwidth>=0.2.5 in /home/foz/miniconda3/envs/ml/lib/python3.9/site-packages (from ftfy->clip-anytorch<3,>=2.5.0->clip-retrieval) (0.2.5)\n",
      "Requirement already satisfied: smmap<6,>=3.0.1 in /home/foz/miniconda3/envs/ml/lib/python3.9/site-packages (from gitdb<5,>=4.0.1->GitPython>=1.0.0->wandb<0.13,>=0.12.10->clip-retrieval) (5.0.0)\n",
      "Requirement already satisfied: pyparsing!=3.0.5,>=2.0.2 in /home/foz/miniconda3/envs/ml/lib/python3.9/site-packages (from packaging>=20.9->huggingface-hub->open-clip-torch<3.0.0,>=2.0.0->clip-retrieval) (3.0.9)\n",
      "Building wheels for collected packages: fire, sentence-transformers\n",
      "  Building wheel for fire (setup.py) ... \u001b[?25ldone\n",
      "\u001b[?25h  Created wheel for fire: filename=fire-0.4.0-py2.py3-none-any.whl size=115926 sha256=6b3b8d3de3254a9e5ba9076eb2b1439d91ab342e5d9a771a21af35449f334188\n",
      "  Stored in directory: /home/foz/.cache/pip/wheels/3b/66/23/d71e662f0df35e56a86dfc6b2e9020fc3fb47e1cbaf5695f84\n",
      "  Building wheel for sentence-transformers (setup.py) ... \u001b[?25ldone\n",
      "\u001b[?25h  Created wheel for sentence-transformers: filename=sentence_transformers-2.2.2-py3-none-any.whl size=125925 sha256=06b9312419fa102fd8d27012eaaee337f12d936c6bb9cfc813fda5854bfdc119\n",
      "  Stored in directory: /home/foz/.cache/pip/wheels/4b/68/65/aba8be86302d9988b832f5e1f3417a87e4a868d396e4329f0a\n",
      "Successfully built fire sentence-transformers\n",
      "Installing collected packages: faiss-cpu, exifread-nocycle, braceexpand, aniso8601, webdataset, pyarrow, fsspec, fire, wandb, flask-restful, flask-cors, embedding-reader, clip-anytorch, sentence-transformers, multilingual-clip, autofaiss, img2dataset, clip-retrieval\n",
      "  Attempting uninstall: pyarrow\n",
      "    Found existing installation: pyarrow 11.0.0\n",
      "    Uninstalling pyarrow-11.0.0:\n",
      "      Successfully uninstalled pyarrow-11.0.0\n",
      "  Attempting uninstall: fsspec\n",
      "    Found existing installation: fsspec 2022.10.0\n",
      "    Uninstalling fsspec-2022.10.0:\n",
      "      Successfully uninstalled fsspec-2022.10.0\n",
      "  Attempting uninstall: fire\n",
      "    Found existing installation: fire 0.5.0\n",
      "    Uninstalling fire-0.5.0:\n",
      "      Successfully uninstalled fire-0.5.0\n"
     ]
    },
    {
     "name": "stdout",
     "output_type": "stream",
     "text": [
      "  Attempting uninstall: wandb\n",
      "    Found existing installation: wandb 0.13.5\n",
      "    Uninstalling wandb-0.13.5:\n",
      "      Successfully uninstalled wandb-0.13.5\n",
      "\u001b[31mERROR: pip's dependency resolver does not currently take into account all the packages that are installed. This behaviour is the source of the following dependency conflicts.\n",
      "nerfstudio 0.1.12 requires wandb>=0.13.3, but you have wandb 0.12.21 which is incompatible.\u001b[0m\u001b[31m\n",
      "\u001b[0mSuccessfully installed aniso8601-9.0.1 autofaiss-2.15.5 braceexpand-0.1.7 clip-anytorch-2.5.2 clip-retrieval-2.36.1 embedding-reader-1.5.0 exifread-nocycle-3.0.1 faiss-cpu-1.7.3 fire-0.4.0 flask-cors-3.0.10 flask-restful-0.3.9 fsspec-2022.11.0 img2dataset-1.41.0 multilingual-clip-1.0.10 pyarrow-7.0.0 sentence-transformers-2.2.2 wandb-0.12.21 webdataset-0.2.48\n"
     ]
    }
   ],
   "source": [
    "!pip install clip-retrieval img2dataset"
   ]
  },
  {
   "cell_type": "code",
   "execution_count": 4,
   "metadata": {
    "id": "pFt_SwfYZqZI"
   },
   "outputs": [],
   "source": [
    "from clip_retrieval.clip_client import ClipClient, Modality\n",
    "import numpy as np\n",
    "\n",
    "client = ClipClient(url=\"https://knn.laion.ai/knn-service\", indice_name=\"laion5B-L-14\", num_images=1000)"
   ]
  },
  {
   "cell_type": "code",
   "execution_count": 8,
   "metadata": {
    "colab": {
     "base_uri": "https://localhost:8080/"
    },
    "id": "S-MRvMFEZs4C",
    "outputId": "e50493d5-41e4-46bb-9852-4b7cc794e939"
   },
   "outputs": [
    {
     "name": "stdout",
     "output_type": "stream",
     "text": [
      "{'caption': 'Domestic Cat, 8-Week Ticked-Silver Kitten, Walking Profile Premium Photographic Print by Jane Burton', 'url': 'http://cache2.allpostersimages.com/p/LRG/21/2144/96BCD00Z/posters/jane-burton-domestic-cat-8-week-ticked-silver-kitten-walking-profile.jpg', 'id': 874109300, 'similarity': 0.5594619512557983}\n",
      "{'caption': 'Kat met dikke staart', 'url': 'https://www.dierennieuws.nl/wp-content/uploads/2018/06/kat-met-dikke-staart-800x445.jpg', 'id': 608484187, 'similarity': 0.558574914932251}\n",
      "{'caption': 'Czerwony kot chodzi po bruku starego miasta.', 'url': 'https://img.freepik.com/darmowe-zdjecie/czerwony-kot-chodzi-po-bruku-starego-miasta_389076-240.jpg?size=626&ext=jpg', 'id': 4579534288, 'similarity': 0.5578061938285828}\n",
      "{'caption': 'Chat du Siam de chats sur le plancher de ciment Chats se reposant sur le plancher de ciment, chat blanc un sur le plancher de cim clips vidéos', 'url': 'https://thumbs.dreamstime.com/t/chat-du-siam-de-chats-sur-le-plancher-ciment-se-reposant-blanc-un-peau-tha%C3%AFlandaise-105293248.jpg', 'id': 3921836324, 'similarity': 0.5566819310188293}\n",
      "{'caption': 'munchkin kiten with short legs', 'url': 'https://t2.ftcdn.net/jpg/00/55/32/23/240_F_55322320_QhwMTewBGyuqIWIbBSxJ3R5XtPsyJa3a.jpg', 'id': 847992305, 'similarity': 0.5553861260414124}\n",
      "{'caption': 'thumb1.shutterstock.com display_pic_with_logo 343015 490672354 stock-photo-portrait-of-domestic-black-tabby-maine-coon-kitten-months-old-cute-young-cat-isolated-on-white-490672354.jpg', 'url': 'https://i.pinimg.com/236x/c8/8a/17/c88a178a55cf3fc153cf7f0c95841de1--motifs.jpg', 'id': 2691581613, 'similarity': 0.5546069145202637}\n",
      "{'caption': 'Ginger tabby cat', 'url': 'https://t1.ftcdn.net/jpg/00/42/15/72/240_F_42157236_Aqexv6PmG4Bh79RwK7SYEBznLJGXZlSa.jpg', 'id': 2298094341, 'similarity': 0.5539969801902771}\n",
      "{'caption': 'by Jane Bjerkli - Animals - Cats Portraits', 'url': 'https://lh3.googleusercontent.com/7rh0waNCXGhdy9uCHKUYCqaTkLMmE1Y1AXAmoB_CmGJhN711f7Xxj1TksrAX7Zw-GYLSwyAPeJPUVywig14InQ=s270-c', 'id': 324785326, 'similarity': 0.5536790490150452}\n",
      "{'caption': 'Sakura-chan The Cat', 'url': 'http://blog-imgs-121.fc2.com/s/a/k/sakuracats/170410-150419-d01s.jpg', 'id': 136547258, 'similarity': 0.5536673069000244}\n",
      "{'caption': 'Calligraphic Cat by Francoise-Evelyne', 'url': 'http://t02.deviantart.net/cnmSVtZvtyW_luK7Px7UdPqvwt0=/300x200/filters:fixed_height(100,100):origin()/pre03/a3f2/th/pre/i/2013/193/d/0/calligraphic_cat_by_francoise_evelyne-d6d5ys4.jpg', 'id': 3244899689, 'similarity': 0.5534960627555847}\n"
     ]
    }
   ],
   "source": [
    "results = client.query(text=\"a cat walking\")\n",
    "for i in np.arange(len(results))[:10]:\n",
    "#  !wget {results[i]['url']}\n",
    "  print(results[i])"
   ]
  },
  {
   "cell_type": "code",
   "execution_count": null,
   "metadata": {
    "id": "Ri4zZgVOb6dl"
   },
   "outputs": [],
   "source": []
  }
 ],
 "metadata": {
  "colab": {
   "provenance": []
  },
  "kernelspec": {
   "display_name": "Python 3 (ipykernel)",
   "language": "python",
   "name": "python3"
  },
  "language_info": {
   "codemirror_mode": {
    "name": "ipython",
    "version": 3
   },
   "file_extension": ".py",
   "mimetype": "text/x-python",
   "name": "python",
   "nbconvert_exporter": "python",
   "pygments_lexer": "ipython3",
   "version": "3.9.15"
  }
 },
 "nbformat": 4,
 "nbformat_minor": 1
}
